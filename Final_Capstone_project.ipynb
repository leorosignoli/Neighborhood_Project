{
 "cells": [
  {
   "cell_type": "markdown",
   "metadata": {},
   "source": [
    "# Data exploration, IBM's capstone project"
   ]
  },
  {
   "cell_type": "markdown",
   "metadata": {},
   "source": [
    "## Introduction"
   ]
  },
  {
   "cell_type": "markdown",
   "metadata": {},
   "source": [
    " Where could be the ideal place for a restaurant to open in toronto? In this project I'm going to answer this question by using the postal code dataset obtained from 'https://en.wikipedia.org/wiki/List_of_postal_codes_of_Canada:_M', 'https://en.wikipedia.org/wiki/Demographics_of_Toronto_neighbourhoods' for the average income of the population and number of people there and information obtained from Foursquare API. \n",
    "     To determine the answer for this question some assumpsions will be made, such as the average income, of which, if they are high, then a Luxorious restaurant is most likely to succeed. \n"
   ]
  },
  {
   "cell_type": "markdown",
   "metadata": {},
   "source": [
    "## The problem"
   ]
  },
  {
   "cell_type": "markdown",
   "metadata": {},
   "source": [
    "Examining the possibilities can give us a better insight of how to proceed, after looking through the data obtained from Foursquare API we can use the folium library to visualize, for example, how distributed the restaurants are, and if you're looking to open one you'll be able to determine the best place for it.\n",
    "By the end, we'll be able to determine the best location for opening a luxorious and a simple restaurant."
   ]
  },
  {
   "cell_type": "markdown",
   "metadata": {},
   "source": [
    "## Downloading libraries\n",
    "Here i'll be getting all the libraries i'm going to use in this project."
   ]
  },
  {
   "cell_type": "code",
   "execution_count": 1,
   "metadata": {},
   "outputs": [],
   "source": [
    "#Importing libraries\n",
    "import pandas as pd\n",
    "import numpy as np\n",
    "import requests\n",
    "from bs4 import BeautifulSoup\n",
    "from pandas.io.html import read_html"
   ]
  },
  {
   "cell_type": "code",
   "execution_count": 2,
   "metadata": {},
   "outputs": [
    {
     "name": "stdout",
     "output_type": "stream",
     "text": [
      "Hello Capstone Project Course!\n"
     ]
    }
   ],
   "source": [
    "print ('Hello Capstone Project Course!')"
   ]
  },
  {
   "cell_type": "markdown",
   "metadata": {},
   "source": [
    "# Getting the data\n",
    "In the following steps i get the table from the wikipedia website and turn it into a pandas Dataframe."
   ]
  },
  {
   "cell_type": "code",
   "execution_count": 3,
   "metadata": {},
   "outputs": [],
   "source": [
    "#getting the table\n",
    "\n",
    "url = 'https://en.wikipedia.org/wiki/List_of_postal_codes_of_Canada:_M'\n",
    "\n",
    "#Transforming the table into a dataframe\n",
    "\n",
    "table = read_html(url,  attrs={\"class\":\"wikitable\"})\n",
    "Postal_codes = pd.DataFrame(data=table[0])\n",
    "Postal_codes = Postal_codes.rename(columns={'Neighbourhood':'Neighborhood'})"
   ]
  },
  {
   "cell_type": "code",
   "execution_count": 4,
   "metadata": {},
   "outputs": [],
   "source": [
    "url2 = 'https://en.wikipedia.org/wiki/Demographics_of_Toronto_neighbourhoods'\n",
    "\n",
    "table2 = read_html(url2,  attrs={\"class\":\"wikitable\"})\n",
    "population_df = pd.DataFrame(data=table2[0])"
   ]
  },
  {
   "cell_type": "code",
   "execution_count": 5,
   "metadata": {
    "scrolled": true
   },
   "outputs": [],
   "source": [
    "population_df = pd.DataFrame(data=(population_df[['Name','Population','Average Income']]))"
   ]
  },
  {
   "cell_type": "code",
   "execution_count": 6,
   "metadata": {},
   "outputs": [
    {
     "data": {
      "text/plain": [
       "(175, 3)"
      ]
     },
     "execution_count": 6,
     "metadata": {},
     "output_type": "execute_result"
    }
   ],
   "source": [
    "population_df.shape"
   ]
  },
  {
   "cell_type": "code",
   "execution_count": 7,
   "metadata": {},
   "outputs": [],
   "source": [
    "population_df=population_df.rename(columns={\"Name\": \"Neighborhood\"})"
   ]
  },
  {
   "cell_type": "code",
   "execution_count": 8,
   "metadata": {},
   "outputs": [
    {
     "data": {
      "text/plain": [
       "(210, 3)"
      ]
     },
     "execution_count": 8,
     "metadata": {},
     "output_type": "execute_result"
    }
   ],
   "source": [
    "#dropping all 'Not assigned' Boroughs\n",
    "\n",
    "Postal_codes= Postal_codes.set_index('Borough')\n",
    "Postal_codes = Postal_codes.drop('Not assigned', axis = 0)\n",
    "Postal_codes = Postal_codes.reset_index(drop=False)\n",
    "Postal_codes.shape"
   ]
  },
  {
   "cell_type": "markdown",
   "metadata": {},
   "source": [
    "### Merging both data sets"
   ]
  },
  {
   "cell_type": "code",
   "execution_count": 9,
   "metadata": {},
   "outputs": [
    {
     "data": {
      "text/plain": [
       "(80, 5)"
      ]
     },
     "execution_count": 9,
     "metadata": {},
     "output_type": "execute_result"
    }
   ],
   "source": [
    "df = pd.merge(Postal_codes, population_df, on=\"Neighborhood\",how='inner')\n",
    "df.shape"
   ]
  },
  {
   "cell_type": "markdown",
   "metadata": {},
   "source": [
    "# Data normalization\n",
    "Here I normalize the dataset before beginning to use it."
   ]
  },
  {
   "cell_type": "code",
   "execution_count": 10,
   "metadata": {},
   "outputs": [
    {
     "data": {
      "text/plain": [
       "(80, 5)"
      ]
     },
     "execution_count": 10,
     "metadata": {},
     "output_type": "execute_result"
    }
   ],
   "source": [
    "# Combining rows with the same postal code\n",
    "#df.set_index(['Postcode','Borough'],inplace=True)\n",
    "#df = df.groupby(level=['Postcode','Borough'], sort=False).agg( ', '.join)\n",
    "#df = df.reset_index(drop=False)\n",
    "#df.head()\n",
    "df.shape"
   ]
  },
  {
   "cell_type": "code",
   "execution_count": 11,
   "metadata": {},
   "outputs": [
    {
     "data": {
      "text/html": [
       "<div>\n",
       "<style scoped>\n",
       "    .dataframe tbody tr th:only-of-type {\n",
       "        vertical-align: middle;\n",
       "    }\n",
       "\n",
       "    .dataframe tbody tr th {\n",
       "        vertical-align: top;\n",
       "    }\n",
       "\n",
       "    .dataframe thead th {\n",
       "        text-align: right;\n",
       "    }\n",
       "</style>\n",
       "<table border=\"1\" class=\"dataframe\">\n",
       "  <thead>\n",
       "    <tr style=\"text-align: right;\">\n",
       "      <th></th>\n",
       "      <th>Borough</th>\n",
       "      <th>Postcode</th>\n",
       "      <th>Neighborhood</th>\n",
       "      <th>Population</th>\n",
       "      <th>Average Income</th>\n",
       "    </tr>\n",
       "  </thead>\n",
       "  <tbody>\n",
       "    <tr>\n",
       "      <th>0</th>\n",
       "      <td>North York</td>\n",
       "      <td>M3A</td>\n",
       "      <td>Parkwoods</td>\n",
       "      <td>26533</td>\n",
       "      <td>34811</td>\n",
       "    </tr>\n",
       "    <tr>\n",
       "      <th>1</th>\n",
       "      <td>North York</td>\n",
       "      <td>M4A</td>\n",
       "      <td>Victoria Village</td>\n",
       "      <td>17047</td>\n",
       "      <td>29657</td>\n",
       "    </tr>\n",
       "    <tr>\n",
       "      <th>2</th>\n",
       "      <td>North York</td>\n",
       "      <td>M6A</td>\n",
       "      <td>Lawrence Heights</td>\n",
       "      <td>3769</td>\n",
       "      <td>29867</td>\n",
       "    </tr>\n",
       "    <tr>\n",
       "      <th>3</th>\n",
       "      <td>North York</td>\n",
       "      <td>M6A</td>\n",
       "      <td>Lawrence Manor</td>\n",
       "      <td>13750</td>\n",
       "      <td>36361</td>\n",
       "    </tr>\n",
       "    <tr>\n",
       "      <th>4</th>\n",
       "      <td>Scarborough</td>\n",
       "      <td>M1B</td>\n",
       "      <td>Rouge</td>\n",
       "      <td>22724</td>\n",
       "      <td>29230</td>\n",
       "    </tr>\n",
       "  </tbody>\n",
       "</table>\n",
       "</div>"
      ],
      "text/plain": [
       "       Borough Postcode      Neighborhood  Population  Average Income\n",
       "0   North York      M3A         Parkwoods       26533           34811\n",
       "1   North York      M4A  Victoria Village       17047           29657\n",
       "2   North York      M6A  Lawrence Heights        3769           29867\n",
       "3   North York      M6A    Lawrence Manor       13750           36361\n",
       "4  Scarborough      M1B             Rouge       22724           29230"
      ]
     },
     "execution_count": 11,
     "metadata": {},
     "output_type": "execute_result"
    }
   ],
   "source": [
    "# Locating all 'not assigned' Neighbourhoods and replacing it with their respective boroughs\n",
    "\n",
    "for index, row in df.iterrows():\n",
    "    if df.loc[index, 'Neighborhood'] =='Not assigned':\n",
    "        df.loc [index,'Neighborhood'] = df.loc[index,'Borough']\n",
    "df.head()"
   ]
  },
  {
   "cell_type": "code",
   "execution_count": 12,
   "metadata": {},
   "outputs": [
    {
     "data": {
      "text/plain": [
       "(80, 5)"
      ]
     },
     "execution_count": 12,
     "metadata": {},
     "output_type": "execute_result"
    }
   ],
   "source": [
    "df.shape"
   ]
  },
  {
   "cell_type": "markdown",
   "metadata": {},
   "source": [
    "# Getting the geodata"
   ]
  },
  {
   "cell_type": "markdown",
   "metadata": {},
   "source": [
    "\n",
    "Here i rename the postal code column of the second dataframe so it matches the first one, then i can use the merge function to unite them."
   ]
  },
  {
   "cell_type": "code",
   "execution_count": 13,
   "metadata": {},
   "outputs": [
    {
     "data": {
      "text/html": [
       "<div>\n",
       "<style scoped>\n",
       "    .dataframe tbody tr th:only-of-type {\n",
       "        vertical-align: middle;\n",
       "    }\n",
       "\n",
       "    .dataframe tbody tr th {\n",
       "        vertical-align: top;\n",
       "    }\n",
       "\n",
       "    .dataframe thead th {\n",
       "        text-align: right;\n",
       "    }\n",
       "</style>\n",
       "<table border=\"1\" class=\"dataframe\">\n",
       "  <thead>\n",
       "    <tr style=\"text-align: right;\">\n",
       "      <th></th>\n",
       "      <th>Postal Code</th>\n",
       "      <th>Latitude</th>\n",
       "      <th>Longitude</th>\n",
       "    </tr>\n",
       "  </thead>\n",
       "  <tbody>\n",
       "    <tr>\n",
       "      <th>0</th>\n",
       "      <td>M1B</td>\n",
       "      <td>43.806686</td>\n",
       "      <td>-79.194353</td>\n",
       "    </tr>\n",
       "    <tr>\n",
       "      <th>1</th>\n",
       "      <td>M1C</td>\n",
       "      <td>43.784535</td>\n",
       "      <td>-79.160497</td>\n",
       "    </tr>\n",
       "    <tr>\n",
       "      <th>2</th>\n",
       "      <td>M1E</td>\n",
       "      <td>43.763573</td>\n",
       "      <td>-79.188711</td>\n",
       "    </tr>\n",
       "    <tr>\n",
       "      <th>3</th>\n",
       "      <td>M1G</td>\n",
       "      <td>43.770992</td>\n",
       "      <td>-79.216917</td>\n",
       "    </tr>\n",
       "    <tr>\n",
       "      <th>4</th>\n",
       "      <td>M1H</td>\n",
       "      <td>43.773136</td>\n",
       "      <td>-79.239476</td>\n",
       "    </tr>\n",
       "  </tbody>\n",
       "</table>\n",
       "</div>"
      ],
      "text/plain": [
       "  Postal Code   Latitude  Longitude\n",
       "0         M1B  43.806686 -79.194353\n",
       "1         M1C  43.784535 -79.160497\n",
       "2         M1E  43.763573 -79.188711\n",
       "3         M1G  43.770992 -79.216917\n",
       "4         M1H  43.773136 -79.239476"
      ]
     },
     "execution_count": 13,
     "metadata": {},
     "output_type": "execute_result"
    }
   ],
   "source": [
    "\n",
    "import types\n",
    "from botocore.client import Config\n",
    "import ibm_boto3\n",
    "\n",
    "def __iter__(self): return 0\n",
    "\n",
    "# @hidden_cell\n",
    "# The following code accesses a file in your IBM Cloud Object Storage. It includes your credentials.\n",
    "# You might want to remove those credentials before you share the notebook.\n",
    "client_988167ed0bdd415c8d4dea1d1cc0335e = ibm_boto3.client(service_name='s3',\n",
    "    ibm_api_key_id='SECRET',\n",
    "    ibm_auth_endpoint=\"SECRET\",\n",
    "    config=Config(signature_version='oauth'),\n",
    "    endpoint_url='https://s3-api.us-geo.objectstorage.service.networklayer.com')\n",
    "\n",
    "body = client_988167ed0bdd415c8d4dea1d1cc0335e.get_object(Bucket='finalprojectcapstone-donotdelete-pr-umou4ypnnndznf',Key='Geospatial_Coordinates.csv')['Body']\n",
    "# add missing __iter__ method, so pandas accepts body as file-like object\n",
    "if not hasattr(body, \"__iter__\"): body.__iter__ = types.MethodType( __iter__, body )\n",
    "\n",
    "df2 = pd.read_csv(body)\n",
    "df2.head()\n"
   ]
  },
  {
   "cell_type": "code",
   "execution_count": 14,
   "metadata": {},
   "outputs": [],
   "source": [
    "df2 = df2.rename(columns={'Postal Code':'Postcode'})"
   ]
  },
  {
   "cell_type": "code",
   "execution_count": 15,
   "metadata": {},
   "outputs": [
    {
     "data": {
      "text/html": [
       "<div>\n",
       "<style scoped>\n",
       "    .dataframe tbody tr th:only-of-type {\n",
       "        vertical-align: middle;\n",
       "    }\n",
       "\n",
       "    .dataframe tbody tr th {\n",
       "        vertical-align: top;\n",
       "    }\n",
       "\n",
       "    .dataframe thead th {\n",
       "        text-align: right;\n",
       "    }\n",
       "</style>\n",
       "<table border=\"1\" class=\"dataframe\">\n",
       "  <thead>\n",
       "    <tr style=\"text-align: right;\">\n",
       "      <th></th>\n",
       "      <th>Borough</th>\n",
       "      <th>Postcode</th>\n",
       "      <th>Neighborhood</th>\n",
       "      <th>Population</th>\n",
       "      <th>Average Income</th>\n",
       "      <th>Latitude</th>\n",
       "      <th>Longitude</th>\n",
       "    </tr>\n",
       "  </thead>\n",
       "  <tbody>\n",
       "    <tr>\n",
       "      <th>0</th>\n",
       "      <td>North York</td>\n",
       "      <td>M3A</td>\n",
       "      <td>Parkwoods</td>\n",
       "      <td>26533</td>\n",
       "      <td>34811</td>\n",
       "      <td>43.753259</td>\n",
       "      <td>-79.329656</td>\n",
       "    </tr>\n",
       "    <tr>\n",
       "      <th>1</th>\n",
       "      <td>North York</td>\n",
       "      <td>M4A</td>\n",
       "      <td>Victoria Village</td>\n",
       "      <td>17047</td>\n",
       "      <td>29657</td>\n",
       "      <td>43.725882</td>\n",
       "      <td>-79.315572</td>\n",
       "    </tr>\n",
       "    <tr>\n",
       "      <th>2</th>\n",
       "      <td>North York</td>\n",
       "      <td>M6A</td>\n",
       "      <td>Lawrence Heights</td>\n",
       "      <td>3769</td>\n",
       "      <td>29867</td>\n",
       "      <td>43.718518</td>\n",
       "      <td>-79.464763</td>\n",
       "    </tr>\n",
       "    <tr>\n",
       "      <th>3</th>\n",
       "      <td>North York</td>\n",
       "      <td>M6A</td>\n",
       "      <td>Lawrence Manor</td>\n",
       "      <td>13750</td>\n",
       "      <td>36361</td>\n",
       "      <td>43.718518</td>\n",
       "      <td>-79.464763</td>\n",
       "    </tr>\n",
       "    <tr>\n",
       "      <th>4</th>\n",
       "      <td>Scarborough</td>\n",
       "      <td>M1B</td>\n",
       "      <td>Rouge</td>\n",
       "      <td>22724</td>\n",
       "      <td>29230</td>\n",
       "      <td>43.806686</td>\n",
       "      <td>-79.194353</td>\n",
       "    </tr>\n",
       "  </tbody>\n",
       "</table>\n",
       "</div>"
      ],
      "text/plain": [
       "       Borough Postcode      Neighborhood  Population  Average Income  \\\n",
       "0   North York      M3A         Parkwoods       26533           34811   \n",
       "1   North York      M4A  Victoria Village       17047           29657   \n",
       "2   North York      M6A  Lawrence Heights        3769           29867   \n",
       "3   North York      M6A    Lawrence Manor       13750           36361   \n",
       "4  Scarborough      M1B             Rouge       22724           29230   \n",
       "\n",
       "    Latitude  Longitude  \n",
       "0  43.753259 -79.329656  \n",
       "1  43.725882 -79.315572  \n",
       "2  43.718518 -79.464763  \n",
       "3  43.718518 -79.464763  \n",
       "4  43.806686 -79.194353  "
      ]
     },
     "execution_count": 15,
     "metadata": {},
     "output_type": "execute_result"
    }
   ],
   "source": [
    "df3 = pd.merge(df, df2, on=\"Postcode\")\n",
    "df3.head()"
   ]
  },
  {
   "cell_type": "code",
   "execution_count": 16,
   "metadata": {},
   "outputs": [
    {
     "data": {
      "text/plain": [
       "(80, 7)"
      ]
     },
     "execution_count": 16,
     "metadata": {},
     "output_type": "execute_result"
    }
   ],
   "source": [
    "df3.shape"
   ]
  },
  {
   "cell_type": "markdown",
   "metadata": {},
   "source": [
    "# Creating a map to visualize the data points\n",
    "In here i'll create a map of toronto so we can visualize the dataset."
   ]
  },
  {
   "cell_type": "code",
   "execution_count": 20,
   "metadata": {
    "scrolled": true
   },
   "outputs": [
    {
     "name": "stdout",
     "output_type": "stream",
     "text": [
      "Solving environment: done\n",
      "\n",
      "## Package Plan ##\n",
      "\n",
      "  environment location: /opt/conda/envs/Python36\n",
      "\n",
      "  added / updated specs: \n",
      "    - folium=0.5.0\n",
      "\n",
      "\n",
      "The following packages will be downloaded:\n",
      "\n",
      "    package                    |            build\n",
      "    ---------------------------|-----------------\n",
      "    branca-0.3.1               |             py_0          25 KB  conda-forge\n",
      "    certifi-2019.11.28         |           py36_0         149 KB  conda-forge\n",
      "    openssl-1.1.1d             |       h516909a_0         2.1 MB  conda-forge\n",
      "    ca-certificates-2019.11.28 |       hecc5488_0         145 KB  conda-forge\n",
      "    vincent-0.4.4              |             py_1          28 KB  conda-forge\n",
      "    folium-0.5.0               |             py_0          45 KB  conda-forge\n",
      "    altair-4.0.1               |             py_0         575 KB  conda-forge\n",
      "    ------------------------------------------------------------\n",
      "                                           Total:         3.0 MB\n",
      "\n",
      "The following NEW packages will be INSTALLED:\n",
      "\n",
      "    altair:          4.0.1-py_0        conda-forge\n",
      "    branca:          0.3.1-py_0        conda-forge\n",
      "    folium:          0.5.0-py_0        conda-forge\n",
      "    vincent:         0.4.4-py_1        conda-forge\n",
      "\n",
      "The following packages will be UPDATED:\n",
      "\n",
      "    ca-certificates: 2019.11.27-0                  --> 2019.11.28-hecc5488_0 conda-forge\n",
      "    certifi:         2019.11.28-py36_0             --> 2019.11.28-py36_0     conda-forge\n",
      "\n",
      "The following packages will be DOWNGRADED:\n",
      "\n",
      "    openssl:         1.1.1d-h7b6447c_3             --> 1.1.1d-h516909a_0     conda-forge\n",
      "\n",
      "\n",
      "Downloading and Extracting Packages\n",
      "branca-0.3.1         | 25 KB     | ##################################### | 100% \n",
      "certifi-2019.11.28   | 149 KB    | ##################################### | 100% \n",
      "openssl-1.1.1d       | 2.1 MB    | ##################################### | 100% \n",
      "ca-certificates-2019 | 145 KB    | ##################################### | 100% \n",
      "vincent-0.4.4        | 28 KB     | ##################################### | 100% \n",
      "folium-0.5.0         | 45 KB     | ##################################### | 100% \n",
      "altair-4.0.1         | 575 KB    | ##################################### | 100% \n",
      "Preparing transaction: done\n",
      "Verifying transaction: done\n",
      "Executing transaction: done\n"
     ]
    }
   ],
   "source": [
    "!conda install -c conda-forge folium=0.5.0 --yes"
   ]
  },
  {
   "cell_type": "code",
   "execution_count": 21,
   "metadata": {},
   "outputs": [],
   "source": [
    "import folium\n",
    "import matplotlib.cm as cm\n",
    "import matplotlib.colors as colors\n"
   ]
  },
  {
   "cell_type": "code",
   "execution_count": 22,
   "metadata": {},
   "outputs": [],
   "source": [
    "from geopy.geocoders import Nominatim"
   ]
  },
  {
   "cell_type": "code",
   "execution_count": 23,
   "metadata": {},
   "outputs": [
    {
     "name": "stdout",
     "output_type": "stream",
     "text": [
      "The geograpical coordinate of Toronto are 43.653963, -79.387207.\n"
     ]
    }
   ],
   "source": [
    "address = 'Toronto'\n",
    "\n",
    "geolocator = Nominatim(user_agent=\"toronto_explorer\")\n",
    "location = geolocator.geocode(address)\n",
    "latitude = location.latitude\n",
    "longitude = location.longitude\n",
    "print('The geograpical coordinate of Toronto are {}, {}.'.format(latitude, longitude))"
   ]
  },
  {
   "cell_type": "code",
   "execution_count": 24,
   "metadata": {},
   "outputs": [
    {
     "data": {
      "text/html": [
       "<div style=\"width:100%;\"><div style=\"position:relative;width:100%;height:0;padding-bottom:60%;\"><iframe src=\"data:text/html;charset=utf-8;base64,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\" style=\"position:absolute;width:100%;height:100%;left:0;top:0;border:none !important;\" allowfullscreen webkitallowfullscreen mozallowfullscreen></iframe></div></div>"
      ],
      "text/plain": [
       "<folium.folium.Map at 0x7fce15aaa668>"
      ]
     },
     "execution_count": 24,
     "metadata": {},
     "output_type": "execute_result"
    }
   ],
   "source": [
    "# creatung a map of Toronto using latitude and longitude values\n",
    "toronto_map = folium.Map(location=[latitude, longitude], zoom_start=11)\n",
    "\n",
    "# add markers to map\n",
    "for lat, lng, label in zip(df3['Latitude'], df3['Longitude'], df3['Neighborhood']):\n",
    "    label = folium.Popup(label, parse_html=True)\n",
    "    folium.CircleMarker(\n",
    "        [lat, lng],\n",
    "        radius=5,\n",
    "        popup=label,\n",
    "        color='blue',\n",
    "        fill=True,\n",
    "        fill_color='#3186cc',\n",
    "        fill_opacity=0.7,\n",
    "        parse_html=False).add_to(toronto_map)  \n",
    "    \n",
    "toronto_map"
   ]
  },
  {
   "cell_type": "markdown",
   "metadata": {},
   "source": [
    "This map shows the neighborhood points in toronto."
   ]
  },
  {
   "cell_type": "code",
   "execution_count": 25,
   "metadata": {},
   "outputs": [],
   "source": [
    "from folium.plugins import HeatMap"
   ]
  },
  {
   "cell_type": "markdown",
   "metadata": {},
   "source": [
    "### In here i create a heat map showing where's the most income."
   ]
  },
  {
   "cell_type": "code",
   "execution_count": 26,
   "metadata": {
    "scrolled": false
   },
   "outputs": [
    {
     "data": {
      "text/html": [
       "<div style=\"width:100%;\"><div style=\"position:relative;width:100%;height:0;padding-bottom:60%;\"><iframe src=\"data:text/html;charset=utf-8;base64,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\" style=\"position:absolute;width:100%;height:100%;left:0;top:0;border:none !important;\" allowfullscreen webkitallowfullscreen mozallowfullscreen></iframe></div></div>"
      ],
      "text/plain": [
       "<folium.folium.Map at 0x7fce1590f5c0>"
      ]
     },
     "execution_count": 26,
     "metadata": {},
     "output_type": "execute_result"
    }
   ],
   "source": [
    "\n",
    "# creating a heatmap of Toronto using latitude and longitude values\n",
    "base_heatmap = folium.Map(location=[latitude, longitude], zoom_start=10)\n",
    "# Just adding a marker\n",
    "folium.Marker((lat,lng), popup='label').add_to(base_heatmap)\n",
    "HeatMap(data=df3[['Latitude', 'Longitude', 'Average Income']].groupby(['Latitude', 'Longitude']).sum().reset_index().values.tolist(), radius=15, max_zoom=4).add_to(base_heatmap)\n",
    "# To show the map\n",
    "base_heatmap"
   ]
  },
  {
   "cell_type": "code",
   "execution_count": 27,
   "metadata": {},
   "outputs": [
    {
     "data": {
      "text/plain": [
       "(80, 7)"
      ]
     },
     "execution_count": 27,
     "metadata": {},
     "output_type": "execute_result"
    }
   ],
   "source": [
    "df3.shape"
   ]
  },
  {
   "cell_type": "markdown",
   "metadata": {},
   "source": [
    "# Getting nearby Venues"
   ]
  },
  {
   "cell_type": "code",
   "execution_count": 28,
   "metadata": {
    "scrolled": true
   },
   "outputs": [],
   "source": [
    "LIMIT = 500 # limit of number of venues returned by Foursquare API\n",
    "radius = 1500 # define radius\n",
    "\n",
    "\n",
    "CLIENT_ID = 'SECRET' # Foursquare ID\n",
    "CLIENT_SECRET = 'SECRET' # Foursquare Secret\n",
    "VERSION = 'SECRET' # Foursquare API version"
   ]
  },
  {
   "cell_type": "code",
   "execution_count": 29,
   "metadata": {
    "scrolled": true
   },
   "outputs": [],
   "source": [
    "def getNearbyVenues(names, latitudes, longitudes, radius=500):\n",
    "    \n",
    "    venues_list=[]\n",
    "    for name, lat, lng in zip(names, latitudes, longitudes):\n",
    "        print(name)\n",
    "            \n",
    "        # create the API request URL\n",
    "        url = 'https://api.foursquare.com/v2/venues/explore?&client_id={}&client_secret={}&v={}&ll={},{}&radius={}&limit={}'.format(\n",
    "            CLIENT_ID, \n",
    "            CLIENT_SECRET, \n",
    "            VERSION, \n",
    "            lat, \n",
    "            lng, \n",
    "            radius, \n",
    "            LIMIT)\n",
    "            \n",
    "        # make the GET request\n",
    "        results = requests.get(url).json()[\"response\"]['groups'][0]['items']\n",
    "        \n",
    "        # return only relevant information for each nearby venue\n",
    "        venues_list.append([(\n",
    "            name, \n",
    "            lat, \n",
    "            lng, \n",
    "            v['venue']['name'], \n",
    "            v['venue']['location']['lat'], \n",
    "            v['venue']['location']['lng'],  \n",
    "            v['venue']['categories'][0]['name']) for v in results])\n",
    "\n",
    "    nearby_venues = pd.DataFrame([item for venue_list in venues_list for item in venue_list])\n",
    "    nearby_venues.columns = ['Neighborhood', \n",
    "                  'Neighborhood Latitude', \n",
    "                  'Neighborhood Longitude', \n",
    "                  'Venue', \n",
    "                  'Venue Latitude', \n",
    "                  'Venue Longitude', \n",
    "                  'Venue Category']\n",
    "    \n",
    "    return(nearby_venues)"
   ]
  },
  {
   "cell_type": "code",
   "execution_count": 30,
   "metadata": {
    "scrolled": true
   },
   "outputs": [
    {
     "name": "stdout",
     "output_type": "stream",
     "text": [
      "Parkwoods\n",
      "Victoria Village\n",
      "Lawrence Heights\n",
      "Lawrence Manor\n",
      "Rouge\n",
      "Malvern\n",
      "Garden District\n",
      "Princess Gardens\n",
      "West Deane Park\n",
      "Highland Creek\n",
      "Rouge Hill\n",
      "Port Union\n",
      "Flemingdon Park\n",
      "St. James Town\n",
      "St. James Town\n",
      "Cabbagetown\n",
      "Eringate\n",
      "Markland Wood\n",
      "Guildwood\n",
      "Morningside\n",
      "West Hill\n",
      "The Beaches\n",
      "Woburn\n",
      "Leaside\n",
      "Bathurst Manor\n",
      "Wilson Heights\n",
      "Thorncliffe Park\n",
      "Scarborough Village\n",
      "Henry Farm\n",
      "Toronto Islands\n",
      "Little Portugal\n",
      "Ionview\n",
      "Bayview Village\n",
      "Riverdale\n",
      "Brockton\n",
      "Clairlea\n",
      "Oakridge\n",
      "York Mills\n",
      "Downsview\n",
      "Humber Summit\n",
      "Cliffcrest\n",
      "Cliffside\n",
      "Newtonbrook\n",
      "Willowdale\n",
      "Bedford Park\n",
      "Mount Dennis\n",
      "Silverthorn\n",
      "Humberlea\n",
      "Birch Cliff\n",
      "Lawrence Park\n",
      "Runnymede\n",
      "Runnymede\n",
      "Swansea\n",
      "Weston\n",
      "Dorset Park\n",
      "Westmount\n",
      "Maryvale\n",
      "Wexford\n",
      "The Annex\n",
      "Yorkville\n",
      "Parkdale\n",
      "Roncesvalles\n",
      "Kingsview Village\n",
      "Agincourt\n",
      "Davisville\n",
      "Moore Park\n",
      "Grange Park\n",
      "Kensington Market\n",
      "Milliken\n",
      "Deer Park\n",
      "South Hill\n",
      "Humber Bay Shores\n",
      "New Toronto\n",
      "Thistletown\n",
      "Rosedale\n",
      "Alderwood\n",
      "Long Branch\n",
      "The Kingsway\n",
      "Church and Wellesley\n",
      "Sunnylea\n"
     ]
    }
   ],
   "source": [
    "toronto_venues = getNearbyVenues(names=df3['Neighborhood'],\n",
    "                                   latitudes=df3['Latitude'],\n",
    "                                   longitudes=df3['Longitude']\n",
    "                                  )"
   ]
  },
  {
   "cell_type": "code",
   "execution_count": 31,
   "metadata": {
    "scrolled": true
   },
   "outputs": [
    {
     "data": {
      "text/html": [
       "<div>\n",
       "<style scoped>\n",
       "    .dataframe tbody tr th:only-of-type {\n",
       "        vertical-align: middle;\n",
       "    }\n",
       "\n",
       "    .dataframe tbody tr th {\n",
       "        vertical-align: top;\n",
       "    }\n",
       "\n",
       "    .dataframe thead th {\n",
       "        text-align: right;\n",
       "    }\n",
       "</style>\n",
       "<table border=\"1\" class=\"dataframe\">\n",
       "  <thead>\n",
       "    <tr style=\"text-align: right;\">\n",
       "      <th></th>\n",
       "      <th>Neighborhood</th>\n",
       "      <th>Neighborhood Latitude</th>\n",
       "      <th>Neighborhood Longitude</th>\n",
       "      <th>Venue</th>\n",
       "      <th>Venue Latitude</th>\n",
       "      <th>Venue Longitude</th>\n",
       "      <th>Venue Category</th>\n",
       "    </tr>\n",
       "  </thead>\n",
       "  <tbody>\n",
       "    <tr>\n",
       "      <th>0</th>\n",
       "      <td>Parkwoods</td>\n",
       "      <td>43.753259</td>\n",
       "      <td>-79.329656</td>\n",
       "      <td>Brookbanks Park</td>\n",
       "      <td>43.751976</td>\n",
       "      <td>-79.33214</td>\n",
       "      <td>Park</td>\n",
       "    </tr>\n",
       "  </tbody>\n",
       "</table>\n",
       "</div>"
      ],
      "text/plain": [
       "  Neighborhood  Neighborhood Latitude  Neighborhood Longitude  \\\n",
       "0    Parkwoods              43.753259              -79.329656   \n",
       "\n",
       "             Venue  Venue Latitude  Venue Longitude Venue Category  \n",
       "0  Brookbanks Park       43.751976        -79.33214           Park  "
      ]
     },
     "execution_count": 31,
     "metadata": {},
     "output_type": "execute_result"
    }
   ],
   "source": [
    "toronto_venues.head(1)"
   ]
  },
  {
   "cell_type": "code",
   "execution_count": 32,
   "metadata": {},
   "outputs": [
    {
     "data": {
      "text/html": [
       "<div>\n",
       "<style scoped>\n",
       "    .dataframe tbody tr th:only-of-type {\n",
       "        vertical-align: middle;\n",
       "    }\n",
       "\n",
       "    .dataframe tbody tr th {\n",
       "        vertical-align: top;\n",
       "    }\n",
       "\n",
       "    .dataframe thead th {\n",
       "        text-align: right;\n",
       "    }\n",
       "</style>\n",
       "<table border=\"1\" class=\"dataframe\">\n",
       "  <thead>\n",
       "    <tr style=\"text-align: right;\">\n",
       "      <th></th>\n",
       "      <th>Restaurants</th>\n",
       "    </tr>\n",
       "  </thead>\n",
       "  <tbody>\n",
       "  </tbody>\n",
       "</table>\n",
       "</div>"
      ],
      "text/plain": [
       "Empty DataFrame\n",
       "Columns: [Restaurants]\n",
       "Index: []"
      ]
     },
     "execution_count": 32,
     "metadata": {},
     "output_type": "execute_result"
    }
   ],
   "source": [
    "toronto_restaurants  = pd.DataFrame(columns=['Restaurants'])\n",
    "toronto_restaurants  = toronto_restaurants.fillna(0) # with 0s rather than NaNs\n",
    "toronto_restaurants"
   ]
  },
  {
   "cell_type": "code",
   "execution_count": 33,
   "metadata": {
    "scrolled": false
   },
   "outputs": [
    {
     "data": {
      "text/html": [
       "<div>\n",
       "<style scoped>\n",
       "    .dataframe tbody tr th:only-of-type {\n",
       "        vertical-align: middle;\n",
       "    }\n",
       "\n",
       "    .dataframe tbody tr th {\n",
       "        vertical-align: top;\n",
       "    }\n",
       "\n",
       "    .dataframe thead th {\n",
       "        text-align: right;\n",
       "    }\n",
       "</style>\n",
       "<table border=\"1\" class=\"dataframe\">\n",
       "  <thead>\n",
       "    <tr style=\"text-align: right;\">\n",
       "      <th></th>\n",
       "      <th>Neighborhood</th>\n",
       "      <th>Neighborhood Latitude</th>\n",
       "      <th>Neighborhood Longitude</th>\n",
       "      <th>Venue</th>\n",
       "      <th>Venue Latitude</th>\n",
       "      <th>Venue Longitude</th>\n",
       "      <th>Venue Category</th>\n",
       "    </tr>\n",
       "  </thead>\n",
       "  <tbody>\n",
       "    <tr>\n",
       "      <th>4</th>\n",
       "      <td>Victoria Village</td>\n",
       "      <td>43.725882</td>\n",
       "      <td>-79.315572</td>\n",
       "      <td>Portugril</td>\n",
       "      <td>43.725819</td>\n",
       "      <td>-79.312785</td>\n",
       "      <td>Portuguese Restaurant</td>\n",
       "    </tr>\n",
       "    <tr>\n",
       "      <th>9</th>\n",
       "      <td>Lawrence Heights</td>\n",
       "      <td>43.718518</td>\n",
       "      <td>-79.464763</td>\n",
       "      <td>Lac Vien Vietnamese Restaurant</td>\n",
       "      <td>43.721259</td>\n",
       "      <td>-79.468472</td>\n",
       "      <td>Vietnamese Restaurant</td>\n",
       "    </tr>\n",
       "    <tr>\n",
       "      <th>21</th>\n",
       "      <td>Lawrence Manor</td>\n",
       "      <td>43.718518</td>\n",
       "      <td>-79.464763</td>\n",
       "      <td>Lac Vien Vietnamese Restaurant</td>\n",
       "      <td>43.721259</td>\n",
       "      <td>-79.468472</td>\n",
       "      <td>Vietnamese Restaurant</td>\n",
       "    </tr>\n",
       "    <tr>\n",
       "      <th>31</th>\n",
       "      <td>Rouge</td>\n",
       "      <td>43.806686</td>\n",
       "      <td>-79.194353</td>\n",
       "      <td>Wendy's</td>\n",
       "      <td>43.807448</td>\n",
       "      <td>-79.199056</td>\n",
       "      <td>Fast Food Restaurant</td>\n",
       "    </tr>\n",
       "    <tr>\n",
       "      <th>33</th>\n",
       "      <td>Malvern</td>\n",
       "      <td>43.806686</td>\n",
       "      <td>-79.194353</td>\n",
       "      <td>Wendy's</td>\n",
       "      <td>43.807448</td>\n",
       "      <td>-79.199056</td>\n",
       "      <td>Fast Food Restaurant</td>\n",
       "    </tr>\n",
       "  </tbody>\n",
       "</table>\n",
       "</div>"
      ],
      "text/plain": [
       "        Neighborhood  Neighborhood Latitude  Neighborhood Longitude  \\\n",
       "4   Victoria Village              43.725882              -79.315572   \n",
       "9   Lawrence Heights              43.718518              -79.464763   \n",
       "21    Lawrence Manor              43.718518              -79.464763   \n",
       "31             Rouge              43.806686              -79.194353   \n",
       "33           Malvern              43.806686              -79.194353   \n",
       "\n",
       "                             Venue  Venue Latitude  Venue Longitude  \\\n",
       "4                        Portugril       43.725819       -79.312785   \n",
       "9   Lac Vien Vietnamese Restaurant       43.721259       -79.468472   \n",
       "21  Lac Vien Vietnamese Restaurant       43.721259       -79.468472   \n",
       "31                         Wendy's       43.807448       -79.199056   \n",
       "33                         Wendy's       43.807448       -79.199056   \n",
       "\n",
       "           Venue Category  \n",
       "4   Portuguese Restaurant  \n",
       "9   Vietnamese Restaurant  \n",
       "21  Vietnamese Restaurant  \n",
       "31   Fast Food Restaurant  \n",
       "33   Fast Food Restaurant  "
      ]
     },
     "execution_count": 33,
     "metadata": {},
     "output_type": "execute_result"
    }
   ],
   "source": [
    "#for index, row in df.iterrows():\n",
    "#    if 'Restaurant' in toronto_venues.loc[index, 'Venue Category'] == False:\n",
    " #       toronto_restaurants.loc[index] = toronto_venues.loc[index, 'Venue Category']\n",
    "\n",
    "    #toronto_venues.Venue Category= toronto_venues.Venue Category.apply(lambda x: 'ball sport' if 'ball' in x else x)\n",
    "    \n",
    "toronto_restaurants = toronto_venues[toronto_venues['Venue Category'].str.contains(r'Restaurant')]\n",
    "toronto_restaurants.head()"
   ]
  },
  {
   "cell_type": "code",
   "execution_count": 34,
   "metadata": {},
   "outputs": [
    {
     "data": {
      "text/plain": [
       "(339, 7)"
      ]
     },
     "execution_count": 34,
     "metadata": {},
     "output_type": "execute_result"
    }
   ],
   "source": [
    "toronto_restaurants.shape"
   ]
  },
  {
   "cell_type": "code",
   "execution_count": 50,
   "metadata": {
    "scrolled": true
   },
   "outputs": [],
   "source": [
    "number_of_restaurants=toronto_restaurants['Neighborhood'].value_counts()\n",
    "number_of_restaurants = pd.DataFrame(data=number_of_restaurants)"
   ]
  },
  {
   "cell_type": "code",
   "execution_count": 51,
   "metadata": {
    "scrolled": true
   },
   "outputs": [],
   "source": [
    "number_of_restaurants.reset_index(inplace=True)\n",
    "number_of_restaurants = number_of_restaurants.rename(columns={\"index\": \"Neighborhood\", \"Neighborhood\": \"count\"})\n"
   ]
  },
  {
   "cell_type": "code",
   "execution_count": 86,
   "metadata": {
    "scrolled": true
   },
   "outputs": [],
   "source": [
    "df4 = df3\n",
    "df4 = pd.merge(df3, number_of_restaurants, on=\"Neighborhood\",how='inner')"
   ]
  },
  {
   "cell_type": "markdown",
   "metadata": {},
   "source": [
    "## Heat Map that shows the amount of restaurants"
   ]
  },
  {
   "cell_type": "code",
   "execution_count": 87,
   "metadata": {
    "scrolled": false
   },
   "outputs": [
    {
     "data": {
      "text/html": [
       "<div style=\"width:100%;\"><div style=\"position:relative;width:100%;height:0;padding-bottom:60%;\"><iframe src=\"data:text/html;charset=utf-8;base64,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\" style=\"position:absolute;width:100%;height:100%;left:0;top:0;border:none !important;\" allowfullscreen webkitallowfullscreen mozallowfullscreen></iframe></div></div>"
      ],
      "text/plain": [
       "<folium.folium.Map at 0x7fce56ab6c50>"
      ]
     },
     "execution_count": 87,
     "metadata": {},
     "output_type": "execute_result"
    }
   ],
   "source": [
    "# creating a heatmap of Toronto using latitude and longitude values\n",
    "base_heatmap3 = folium.Map(location=[latitude, longitude], zoom_start=10)\n",
    "# Just adding a marker\n",
    "folium.Marker((lat,lng), popup='Toronto').add_to(base_heatmap3)\n",
    "HeatMap(data=df4[['Latitude', 'Longitude','count']].groupby(['Latitude', 'Longitude']).sum().reset_index().values.tolist(), radius=15, max_zoom=4).add_to(base_heatmap2)\n",
    "# To show the map\n",
    "base_heatmap2"
   ]
  },
  {
   "cell_type": "markdown",
   "metadata": {},
   "source": [
    "## The results"
   ]
  },
  {
   "cell_type": "code",
   "execution_count": 99,
   "metadata": {
    "scrolled": false
   },
   "outputs": [
    {
     "data": {
      "text/html": [
       "<div>\n",
       "<style scoped>\n",
       "    .dataframe tbody tr th:only-of-type {\n",
       "        vertical-align: middle;\n",
       "    }\n",
       "\n",
       "    .dataframe tbody tr th {\n",
       "        vertical-align: top;\n",
       "    }\n",
       "\n",
       "    .dataframe thead th {\n",
       "        text-align: right;\n",
       "    }\n",
       "</style>\n",
       "<table border=\"1\" class=\"dataframe\">\n",
       "  <thead>\n",
       "    <tr style=\"text-align: right;\">\n",
       "      <th></th>\n",
       "      <th>Borough</th>\n",
       "      <th>Postcode</th>\n",
       "      <th>Neighborhood</th>\n",
       "      <th>Population</th>\n",
       "      <th>Average Income</th>\n",
       "      <th>Latitude</th>\n",
       "      <th>Longitude</th>\n",
       "      <th>count</th>\n",
       "    </tr>\n",
       "  </thead>\n",
       "  <tbody>\n",
       "    <tr>\n",
       "      <th>44</th>\n",
       "      <td>Central Toronto</td>\n",
       "      <td>M4T</td>\n",
       "      <td>Moore Park</td>\n",
       "      <td>4474</td>\n",
       "      <td>154825</td>\n",
       "      <td>43.689574</td>\n",
       "      <td>-79.383160</td>\n",
       "      <td>1</td>\n",
       "    </tr>\n",
       "    <tr>\n",
       "      <th>48</th>\n",
       "      <td>Central Toronto</td>\n",
       "      <td>M4V</td>\n",
       "      <td>South Hill</td>\n",
       "      <td>6218</td>\n",
       "      <td>120453</td>\n",
       "      <td>43.686412</td>\n",
       "      <td>-79.400049</td>\n",
       "      <td>4</td>\n",
       "    </tr>\n",
       "    <tr>\n",
       "      <th>39</th>\n",
       "      <td>Central Toronto</td>\n",
       "      <td>M5R</td>\n",
       "      <td>Yorkville</td>\n",
       "      <td>6045</td>\n",
       "      <td>105239</td>\n",
       "      <td>43.672710</td>\n",
       "      <td>-79.405678</td>\n",
       "      <td>4</td>\n",
       "    </tr>\n",
       "    <tr>\n",
       "      <th>14</th>\n",
       "      <td>East York</td>\n",
       "      <td>M4G</td>\n",
       "      <td>Leaside</td>\n",
       "      <td>13876</td>\n",
       "      <td>82670</td>\n",
       "      <td>43.709060</td>\n",
       "      <td>-79.363452</td>\n",
       "      <td>4</td>\n",
       "    </tr>\n",
       "    <tr>\n",
       "      <th>28</th>\n",
       "      <td>North York</td>\n",
       "      <td>M5M</td>\n",
       "      <td>Bedford Park</td>\n",
       "      <td>13749</td>\n",
       "      <td>80827</td>\n",
       "      <td>43.733283</td>\n",
       "      <td>-79.419750</td>\n",
       "      <td>11</td>\n",
       "    </tr>\n",
       "    <tr>\n",
       "      <th>47</th>\n",
       "      <td>Central Toronto</td>\n",
       "      <td>M4V</td>\n",
       "      <td>Deer Park</td>\n",
       "      <td>15165</td>\n",
       "      <td>80704</td>\n",
       "      <td>43.686412</td>\n",
       "      <td>-79.400049</td>\n",
       "      <td>4</td>\n",
       "    </tr>\n",
       "    <tr>\n",
       "      <th>38</th>\n",
       "      <td>Central Toronto</td>\n",
       "      <td>M5R</td>\n",
       "      <td>The Annex</td>\n",
       "      <td>15602</td>\n",
       "      <td>63636</td>\n",
       "      <td>43.672710</td>\n",
       "      <td>-79.405678</td>\n",
       "      <td>4</td>\n",
       "    </tr>\n",
       "    <tr>\n",
       "      <th>33</th>\n",
       "      <td>West Toronto</td>\n",
       "      <td>M6S</td>\n",
       "      <td>Swansea</td>\n",
       "      <td>11133</td>\n",
       "      <td>58681</td>\n",
       "      <td>43.651571</td>\n",
       "      <td>-79.484450</td>\n",
       "      <td>10</td>\n",
       "    </tr>\n",
       "    <tr>\n",
       "      <th>18</th>\n",
       "      <td>North York</td>\n",
       "      <td>M2J</td>\n",
       "      <td>Henry Farm</td>\n",
       "      <td>2790</td>\n",
       "      <td>56395</td>\n",
       "      <td>43.778517</td>\n",
       "      <td>-79.346556</td>\n",
       "      <td>12</td>\n",
       "    </tr>\n",
       "    <tr>\n",
       "      <th>43</th>\n",
       "      <td>Central Toronto</td>\n",
       "      <td>M4S</td>\n",
       "      <td>Davisville</td>\n",
       "      <td>23727</td>\n",
       "      <td>55735</td>\n",
       "      <td>43.704324</td>\n",
       "      <td>-79.388790</td>\n",
       "      <td>10</td>\n",
       "    </tr>\n",
       "  </tbody>\n",
       "</table>\n",
       "</div>"
      ],
      "text/plain": [
       "            Borough Postcode  Neighborhood  Population  Average Income  \\\n",
       "44  Central Toronto      M4T    Moore Park        4474          154825   \n",
       "48  Central Toronto      M4V    South Hill        6218          120453   \n",
       "39  Central Toronto      M5R     Yorkville        6045          105239   \n",
       "14        East York      M4G       Leaside       13876           82670   \n",
       "28       North York      M5M  Bedford Park       13749           80827   \n",
       "47  Central Toronto      M4V     Deer Park       15165           80704   \n",
       "38  Central Toronto      M5R     The Annex       15602           63636   \n",
       "33     West Toronto      M6S       Swansea       11133           58681   \n",
       "18       North York      M2J    Henry Farm        2790           56395   \n",
       "43  Central Toronto      M4S    Davisville       23727           55735   \n",
       "\n",
       "     Latitude  Longitude  count  \n",
       "44  43.689574 -79.383160      1  \n",
       "48  43.686412 -79.400049      4  \n",
       "39  43.672710 -79.405678      4  \n",
       "14  43.709060 -79.363452      4  \n",
       "28  43.733283 -79.419750     11  \n",
       "47  43.686412 -79.400049      4  \n",
       "38  43.672710 -79.405678      4  \n",
       "33  43.651571 -79.484450     10  \n",
       "18  43.778517 -79.346556     12  \n",
       "43  43.704324 -79.388790     10  "
      ]
     },
     "execution_count": 99,
     "metadata": {},
     "output_type": "execute_result"
    }
   ],
   "source": [
    "df4 = df4.sort_values(by=['Average Income','count'],ascending=False)\n",
    "df4.head(10)"
   ]
  },
  {
   "cell_type": "markdown",
   "metadata": {},
   "source": [
    "As shown in the table above, the best place to open a Luxorious Restaurant would be Moore park, as it is the neighborhood with the best average income and less competition."
   ]
  },
  {
   "cell_type": "code",
   "execution_count": 101,
   "metadata": {},
   "outputs": [
    {
     "data": {
      "text/html": [
       "<div>\n",
       "<style scoped>\n",
       "    .dataframe tbody tr th:only-of-type {\n",
       "        vertical-align: middle;\n",
       "    }\n",
       "\n",
       "    .dataframe tbody tr th {\n",
       "        vertical-align: top;\n",
       "    }\n",
       "\n",
       "    .dataframe thead th {\n",
       "        text-align: right;\n",
       "    }\n",
       "</style>\n",
       "<table border=\"1\" class=\"dataframe\">\n",
       "  <thead>\n",
       "    <tr style=\"text-align: right;\">\n",
       "      <th></th>\n",
       "      <th>Borough</th>\n",
       "      <th>Postcode</th>\n",
       "      <th>Neighborhood</th>\n",
       "      <th>Population</th>\n",
       "      <th>Average Income</th>\n",
       "      <th>Latitude</th>\n",
       "      <th>Longitude</th>\n",
       "      <th>count</th>\n",
       "    </tr>\n",
       "  </thead>\n",
       "  <tbody>\n",
       "    <tr>\n",
       "      <th>13</th>\n",
       "      <td>Scarborough</td>\n",
       "      <td>M1G</td>\n",
       "      <td>Woburn</td>\n",
       "      <td>48507</td>\n",
       "      <td>26190</td>\n",
       "      <td>43.770992</td>\n",
       "      <td>-79.216917</td>\n",
       "      <td>1</td>\n",
       "    </tr>\n",
       "    <tr>\n",
       "      <th>42</th>\n",
       "      <td>Scarborough</td>\n",
       "      <td>M1S</td>\n",
       "      <td>Agincourt</td>\n",
       "      <td>44577</td>\n",
       "      <td>25750</td>\n",
       "      <td>43.794200</td>\n",
       "      <td>-79.262029</td>\n",
       "      <td>1</td>\n",
       "    </tr>\n",
       "    <tr>\n",
       "      <th>4</th>\n",
       "      <td>Scarborough</td>\n",
       "      <td>M1B</td>\n",
       "      <td>Malvern</td>\n",
       "      <td>44324</td>\n",
       "      <td>25677</td>\n",
       "      <td>43.806686</td>\n",
       "      <td>-79.194353</td>\n",
       "      <td>1</td>\n",
       "    </tr>\n",
       "    <tr>\n",
       "      <th>23</th>\n",
       "      <td>East Toronto</td>\n",
       "      <td>M4K</td>\n",
       "      <td>Riverdale</td>\n",
       "      <td>31007</td>\n",
       "      <td>40139</td>\n",
       "      <td>43.679557</td>\n",
       "      <td>-79.352188</td>\n",
       "      <td>17</td>\n",
       "    </tr>\n",
       "    <tr>\n",
       "      <th>40</th>\n",
       "      <td>West Toronto</td>\n",
       "      <td>M6R</td>\n",
       "      <td>Parkdale</td>\n",
       "      <td>28367</td>\n",
       "      <td>26314</td>\n",
       "      <td>43.648960</td>\n",
       "      <td>-79.456325</td>\n",
       "      <td>4</td>\n",
       "    </tr>\n",
       "    <tr>\n",
       "      <th>12</th>\n",
       "      <td>Scarborough</td>\n",
       "      <td>M1E</td>\n",
       "      <td>West Hill</td>\n",
       "      <td>25632</td>\n",
       "      <td>27936</td>\n",
       "      <td>43.763573</td>\n",
       "      <td>-79.188711</td>\n",
       "      <td>1</td>\n",
       "    </tr>\n",
       "    <tr>\n",
       "      <th>43</th>\n",
       "      <td>Central Toronto</td>\n",
       "      <td>M4S</td>\n",
       "      <td>Davisville</td>\n",
       "      <td>23727</td>\n",
       "      <td>55735</td>\n",
       "      <td>43.704324</td>\n",
       "      <td>-79.388790</td>\n",
       "      <td>10</td>\n",
       "    </tr>\n",
       "    <tr>\n",
       "      <th>3</th>\n",
       "      <td>Scarborough</td>\n",
       "      <td>M1B</td>\n",
       "      <td>Rouge</td>\n",
       "      <td>22724</td>\n",
       "      <td>29230</td>\n",
       "      <td>43.806686</td>\n",
       "      <td>-79.194353</td>\n",
       "      <td>1</td>\n",
       "    </tr>\n",
       "    <tr>\n",
       "      <th>6</th>\n",
       "      <td>North York</td>\n",
       "      <td>M3C</td>\n",
       "      <td>Flemingdon Park</td>\n",
       "      <td>21287</td>\n",
       "      <td>23471</td>\n",
       "      <td>43.725900</td>\n",
       "      <td>-79.340923</td>\n",
       "      <td>8</td>\n",
       "    </tr>\n",
       "    <tr>\n",
       "      <th>29</th>\n",
       "      <td>York</td>\n",
       "      <td>M6M</td>\n",
       "      <td>Mount Dennis</td>\n",
       "      <td>21284</td>\n",
       "      <td>23910</td>\n",
       "      <td>43.691116</td>\n",
       "      <td>-79.476013</td>\n",
       "      <td>1</td>\n",
       "    </tr>\n",
       "  </tbody>\n",
       "</table>\n",
       "</div>"
      ],
      "text/plain": [
       "            Borough Postcode     Neighborhood  Population  Average Income  \\\n",
       "13      Scarborough      M1G           Woburn       48507           26190   \n",
       "42      Scarborough      M1S        Agincourt       44577           25750   \n",
       "4       Scarborough      M1B          Malvern       44324           25677   \n",
       "23     East Toronto      M4K        Riverdale       31007           40139   \n",
       "40     West Toronto      M6R         Parkdale       28367           26314   \n",
       "12      Scarborough      M1E        West Hill       25632           27936   \n",
       "43  Central Toronto      M4S       Davisville       23727           55735   \n",
       "3       Scarborough      M1B            Rouge       22724           29230   \n",
       "6        North York      M3C  Flemingdon Park       21287           23471   \n",
       "29             York      M6M     Mount Dennis       21284           23910   \n",
       "\n",
       "     Latitude  Longitude  count  \n",
       "13  43.770992 -79.216917      1  \n",
       "42  43.794200 -79.262029      1  \n",
       "4   43.806686 -79.194353      1  \n",
       "23  43.679557 -79.352188     17  \n",
       "40  43.648960 -79.456325      4  \n",
       "12  43.763573 -79.188711      1  \n",
       "43  43.704324 -79.388790     10  \n",
       "3   43.806686 -79.194353      1  \n",
       "6   43.725900 -79.340923      8  \n",
       "29  43.691116 -79.476013      1  "
      ]
     },
     "execution_count": 101,
     "metadata": {},
     "output_type": "execute_result"
    }
   ],
   "source": [
    "df4 = df4.sort_values(by=['Population','count'],ascending=False)\n",
    "df4.head(10)"
   ]
  },
  {
   "cell_type": "markdown",
   "metadata": {},
   "source": [
    "In here we see that Scarborough would be the best place to open a low income restaurant, since there's only one in the area and it's the most populated Borough in Toronto."
   ]
  }
 ],
 "metadata": {
  "kernelspec": {
   "display_name": "Python 3.6",
   "language": "python",
   "name": "python3"
  },
  "language_info": {
   "codemirror_mode": {
    "name": "ipython",
    "version": 3
   },
   "file_extension": ".py",
   "mimetype": "text/x-python",
   "name": "python",
   "nbconvert_exporter": "python",
   "pygments_lexer": "ipython3",
   "version": "3.6.9"
  }
 },
 "nbformat": 4,
 "nbformat_minor": 1
}
